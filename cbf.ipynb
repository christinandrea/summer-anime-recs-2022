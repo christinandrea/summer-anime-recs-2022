{
 "cells": [
  {
   "cell_type": "code",
   "execution_count": 1,
   "metadata": {},
   "outputs": [],
   "source": [
    "from neo4j import GraphDatabase\n",
    "from sklearn.metrics.pairwise import pairwise_distances,cosine_similarity\n",
    "from sklearn.feature_extraction.text import CountVectorizer\n",
    "import numpy as np\n",
    "\n",
    "# from sklearn.metrics import pairwise_distances"
   ]
  },
  {
   "attachments": {},
   "cell_type": "markdown",
   "metadata": {},
   "source": [
    "Connect to Neo4j database\n"
   ]
  },
  {
   "cell_type": "code",
   "execution_count": 2,
   "metadata": {},
   "outputs": [],
   "source": [
    "host = 'bolt://localhost:7687'\n",
    "username = 'neo4j'\n",
    "password = 'Jaehyun14*'\n",
    "\n",
    "conn = GraphDatabase.driver(host,auth=(username,password))\n"
   ]
  },
  {
   "attachments": {},
   "cell_type": "markdown",
   "metadata": {},
   "source": [
    "Input the title"
   ]
  },
  {
   "cell_type": "code",
   "execution_count": 3,
   "metadata": {},
   "outputs": [],
   "source": [
    "inputText = input(\"Enter title: \")"
   ]
  },
  {
   "cell_type": "code",
   "execution_count": 4,
   "metadata": {},
   "outputs": [
    {
     "name": "stdout",
     "output_type": "stream",
     "text": [
      "[0.         0.         0.         1.         0.         0.15811388\n",
      " 0.         0.         0.         0.         0.25       0.18898224\n",
      " 0.         0.         0.25       0.         0.         0.28867513\n",
      " 0.         0.         0.         0.         0.         0.\n",
      " 0.         0.         0.         0.         0.         0.        ]\n"
     ]
    }
   ],
   "source": [
    "with conn.session() as session:\n",
    "    res = \"MATCH (a:Anime) RETURN a.title AS title, a.genre AS genre, a.rating as rating,a.studio AS studio, a.show_type AS show_type\"\n",
    "\n",
    "    query = session.run(res)\n",
    "\n",
    "    data = [(row['title'],row['genre'],row['rating'],row['studio'],row['show_type'])for row in query]\n",
    "\n",
    "    empList = list()\n",
    "    for title,genre,rating,studio,show_type in data:\n",
    "        genre_split = [i for i in genre]\n",
    "        empList.append((title,\", \".join(genre_split),rating,studio,show_type))\n",
    "\n",
    "    genres = [genre for _, genre, _, _ ,_ in empList]\n",
    "\n",
    "    count_vec = CountVectorizer(binary=True)\n",
    "    genre_matrix = count_vec.fit_transform(genres).todense()\n",
    "    np_array = np.asarray(genre_matrix)\n",
    "    # similarity_matrix = pairwise_distances(np_array, metric='jaccard')\n",
    "    similarity_matrix = cosine_similarity(np_array)\n",
    "    title_index = None\n",
    "    for i, (title, _, _,_,_) in enumerate(empList):\n",
    "        if title == inputText :\n",
    "            title_index = i\n",
    "            break\n",
    "    if title_index is None:\n",
    "        print(\"Show not found\")\n",
    "\n",
    "    # print(genre_matrix)\n",
    "    similarity_scores = similarity_matrix[title_index]\n",
    "    print(similarity_matrix[title_index])\n",
    "    \n",
    "    # print(similarity_matrix[title_index])\n",
    "    top_indices = similarity_scores.argsort()[::1][:5]\n",
    "    recList = []\n",
    "    \n",
    "    # for i in top_indices:\n",
    "    #     recommendations = (empList[i[0]],similarity_scores[i[0]])\n",
    "    #     # total_recs = recommendations\n",
    "    #     recList.append(recommendations)\n",
    "    #     if len(recList)>=3:\n",
    "    #         break\n",
    "\n",
    "\n",
    "    recommendation = [(empList[i], similarity_scores[i]) for i in top_indices]\n",
    "    recList.append(recommendation)\n",
    "\n",
    "    # recommendations = [(empList[i],similarity_scores[i]) for i in top_indices]\n",
    "\n",
    "\n",
    "\n",
    "\n",
    "# print(recList)\n",
    "\n"
   ]
  },
  {
   "attachments": {},
   "cell_type": "markdown",
   "metadata": {},
   "source": [
    "Results"
   ]
  },
  {
   "cell_type": "code",
   "execution_count": 5,
   "metadata": {},
   "outputs": [
    {
     "name": "stdout",
     "output_type": "stream",
     "text": [
      "(('Laid-Back Camp: The Movie', 'Slice of Life', 8.48, 'C-Station', 'Movie'), 0.0)\n",
      "(('Chibiham, Juicy & Me', 'Comedy', 'N/A', 'N/A', 'Movie'), 0.0)\n",
      "(('My Precious Lunch', 'Action, Fantasy', 6.35, 'N/A', 'Movie'), 0.0)\n",
      "(('Rainbow Sea Fly High', 'Adventure, Fantasy, Sci-Fi', 'N/A', 'N/A', 'Movie'), 0.0)\n",
      "(('Delicious Party♡Precure Movie: Yume Miru Oko-sama Lunch!', 'Action, Fantasy', 6.54, 'Toei Animation', 'Movie'), 0.0)\n"
     ]
    }
   ],
   "source": [
    "for i in recList:\n",
    "    # del i[0]\n",
    "    for items in i:\n",
    "        print(items)\n",
    "\n",
    "        \n",
    "    "
   ]
  }
 ],
 "metadata": {
  "kernelspec": {
   "display_name": "Python 3",
   "language": "python",
   "name": "python3"
  },
  "language_info": {
   "codemirror_mode": {
    "name": "ipython",
    "version": 3
   },
   "file_extension": ".py",
   "mimetype": "text/x-python",
   "name": "python",
   "nbconvert_exporter": "python",
   "pygments_lexer": "ipython3",
   "version": "3.10.11"
  },
  "orig_nbformat": 4
 },
 "nbformat": 4,
 "nbformat_minor": 2
}
