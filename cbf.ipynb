{
 "cells": [
  {
   "cell_type": "code",
   "execution_count": 267,
   "metadata": {},
   "outputs": [],
   "source": [
    "from neo4j import GraphDatabase\n",
    "from sklearn.metrics.pairwise import pairwise_distances,cosine_similarity\n",
    "from sklearn.feature_extraction.text import CountVectorizer\n",
    "import numpy as np\n",
    "from flask import jsonify\n",
    "from difflib import SequenceMatcher\n",
    "import os\n",
    "# from sklearn.metrics import pairwise_distances"
   ]
  },
  {
   "attachments": {},
   "cell_type": "markdown",
   "metadata": {},
   "source": [
    "Connect to Neo4j database\n"
   ]
  },
  {
   "cell_type": "code",
   "execution_count": 269,
   "metadata": {},
   "outputs": [],
   "source": [
    "host = os.environ['HOST']\n",
    "username = os.environ[\"USERNAME\"]\n",
    "password = os.environ[\"PASSWORD\"]\n",
    "\n",
    "conn = GraphDatabase.driver(host,auth=(username,password))\n"
   ]
  },
  {
   "attachments": {},
   "cell_type": "markdown",
   "metadata": {},
   "source": [
    "Input the title"
   ]
  },
  {
   "cell_type": "code",
   "execution_count": 467,
   "metadata": {},
   "outputs": [],
   "source": [
    "inputText = \"phantom\""
   ]
  },
  {
   "attachments": {},
   "cell_type": "markdown",
   "metadata": {},
   "source": [
    "*Processing......*"
   ]
  },
  {
   "cell_type": "code",
   "execution_count": 482,
   "metadata": {},
   "outputs": [],
   "source": [
    "def run_recommendation(inputText):\n",
    "\n",
    "    with conn.session() as session:\n",
    "        res = \"MATCH (a:Anime) RETURN a.title AS title, a.genre AS genre, a.rating as rating,a.studio AS studio, a.show_type AS show_type\"\n",
    "        # for i in res:\n",
    "        #     print(i)\n",
    "        query = session.run(res)\n",
    "\n",
    "        data = [(row['title'],row['genre'],row['rating'],row['studio'],row['show_type'])for row in query]\n",
    "\n",
    "        empList = list()\n",
    "        for title,genre,rating,studio,show_type in data:\n",
    "            genre_split = [i for i in genre]\n",
    "            empList.append((title,\", \".join(genre_split),rating,studio,show_type))\n",
    "\n",
    "        genres = [genre for _, genre, _, _ ,_ in empList]\n",
    "\n",
    "        count_vec = CountVectorizer(binary=True)\n",
    "        matrix = count_vec.fit_transform(genres).todense()\n",
    "        np_array = np.asarray(matrix)\n",
    "\n",
    "        similarity_matrix = cosine_similarity(np_array)\n",
    "        title_index = None\n",
    "        similarity_scores = None\n",
    "\n",
    "        for i in range(len(empList)):\n",
    "            title = empList[i][0]\n",
    "           \n",
    "            sim = SequenceMatcher(None,inputText,title).ratio()\n",
    "\n",
    "            if sim > 0.4:\n",
    "                title_index = i\n",
    "                break\n",
    "     \n",
    "\n",
    "        if title_index is not None:\n",
    "            similarity_scores = similarity_matrix[title_index]\n",
    "            top_indices = np.argsort(similarity_scores)[::-1]\n",
    "            \n",
    "            recommendation = [[list(empList[i]),similarity_scores[i]*100] for i in top_indices if similarity_scores[i]>0.7]\n",
    "          \n",
    "            \n",
    "            res = {\n",
    "                \"status\" : 200,\n",
    "                \"body\" : recommendation\n",
    "            }\n",
    "        else:\n",
    "            res = {\n",
    "                \"status\" : 400,\n",
    "                \"body\" : \"Not Found\"\n",
    "            }\n",
    "        return res"
   ]
  },
  {
   "attachments": {},
   "cell_type": "markdown",
   "metadata": {},
   "source": [
    "Results"
   ]
  },
  {
   "cell_type": "code",
   "execution_count": 483,
   "metadata": {},
   "outputs": [
    {
     "data": {
      "text/plain": [
       "{'status': 200,\n",
       " 'body': [[['Phantom of the Idol',\n",
       "    'Comedy, Supernatural',\n",
       "    6.75,\n",
       "    ' Studio Gokumi',\n",
       "    'TV Show'],\n",
       "   99.99999999999997],\n",
       "  [['Osomatsu-san: Hipipo-Zoku to Kagayaku Kajitsu',\n",
       "    'Comedy',\n",
       "    6.42,\n",
       "    'Pierrot',\n",
       "    'Movie'],\n",
       "   70.71067811865474],\n",
       "  [['Chibiham, Juicy & Me', 'Comedy', 'N/A', 'N/A', 'Movie'],\n",
       "   70.71067811865474],\n",
       "  [['Musasi-no', 'Comedy', 4.69, ' A-Real', 'TV Show'], 70.71067811865474]]}"
      ]
     },
     "execution_count": 483,
     "metadata": {},
     "output_type": "execute_result"
    }
   ],
   "source": [
    "run_recommendation(inputText)   \n",
    "\n",
    "# sim = SequenceMatcher(None,\"Call of the Night\",\"Call Of\") .ratio()\n",
    "\n",
    "\n",
    "# print(sim)"
   ]
  },
  {
   "cell_type": "code",
   "execution_count": 451,
   "metadata": {},
   "outputs": [
    {
     "name": "stdout",
     "output_type": "stream",
     "text": [
      "0.4444444444444444\n"
     ]
    }
   ],
   "source": [
    "sim = SequenceMatcher(None,\"drift\",\"Drifting Home\") .ratio()\n",
    "\n",
    "\n",
    "print(sim)"
   ]
  }
 ],
 "metadata": {
  "kernelspec": {
   "display_name": "Python 3",
   "language": "python",
   "name": "python3"
  },
  "language_info": {
   "codemirror_mode": {
    "name": "ipython",
    "version": 3
   },
   "file_extension": ".py",
   "mimetype": "text/x-python",
   "name": "python",
   "nbconvert_exporter": "python",
   "pygments_lexer": "ipython3",
   "version": "3.10.11"
  },
  "orig_nbformat": 4
 },
 "nbformat": 4,
 "nbformat_minor": 2
}
