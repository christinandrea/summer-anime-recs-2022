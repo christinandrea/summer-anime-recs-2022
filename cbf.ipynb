{
 "cells": [
  {
   "cell_type": "code",
   "execution_count": 1,
   "metadata": {},
   "outputs": [],
   "source": [
    "from neo4j import GraphDatabase\n",
    "from sklearn.metrics.pairwise import pairwise_distances,cosine_similarity\n",
    "from sklearn.feature_extraction.text import CountVectorizer\n",
    "import numpy as np\n",
    "\n",
    "# from sklearn.metrics import pairwise_distances"
   ]
  },
  {
   "attachments": {},
   "cell_type": "markdown",
   "metadata": {},
   "source": [
    "Connect to Neo4j database\n"
   ]
  },
  {
   "cell_type": "code",
   "execution_count": 2,
   "metadata": {},
   "outputs": [],
   "source": [
    "host = 'bolt://localhost:7687'\n",
    "username = 'neo4j'\n",
    "password = 'Jaehyun14*'\n",
    "\n",
    "conn = GraphDatabase.driver(host,auth=(username,password))\n"
   ]
  },
  {
   "attachments": {},
   "cell_type": "markdown",
   "metadata": {},
   "source": [
    "Input the title"
   ]
  },
  {
   "cell_type": "code",
   "execution_count": 68,
   "metadata": {},
   "outputs": [],
   "source": [
    "inputText = input(\"Enter title: \")"
   ]
  },
  {
   "attachments": {},
   "cell_type": "markdown",
   "metadata": {},
   "source": [
    "*Processing......*"
   ]
  },
  {
   "cell_type": "code",
   "execution_count": 69,
   "metadata": {},
   "outputs": [
    {
     "name": "stdout",
     "output_type": "stream",
     "text": [
      "[0.         0.         0.         0.18898224 0.53452248 0.11952286\n",
      " 0.26726124 0.37796447 0.65465367 0.         0.75592895 1.\n",
      " 0.         0.37796447 0.18898224 0.         0.         0.21821789\n",
      " 0.26726124 0.37796447 0.21821789 0.21821789 0.65465367 0.\n",
      " 0.53452248 0.37796447 0.53452248 0.37796447 0.65465367 0.        ]\n"
     ]
    }
   ],
   "source": [
    "with conn.session() as session:\n",
    "    res = \"MATCH (a:Anime) RETURN a.title AS title, a.genre AS genre, a.rating as rating,a.studio AS studio, a.show_type AS show_type\"\n",
    "\n",
    "    query = session.run(res)\n",
    "\n",
    "    data = [(row['title'],row['genre'],row['rating'],row['studio'],row['show_type'])for row in query]\n",
    "\n",
    "    empList = list()\n",
    "    for title,genre,rating,studio,show_type in data:\n",
    "        genre_split = [i for i in genre]\n",
    "        empList.append((title,\", \".join(genre_split),rating,studio,show_type))\n",
    "\n",
    "    genres = [genre for _, genre, _, _ ,_ in empList]\n",
    "\n",
    "    count_vec = CountVectorizer(binary=True)\n",
    "    matrix = count_vec.fit_transform(genres).todense()\n",
    "    np_array = np.asarray(matrix)\n",
    "\n",
    "    similarity_matrix =  cosine_similarity(np_array)\n",
    "    title_index = None\n",
    "    for i, (title, _, _,_,_) in enumerate(empList):\n",
    "        if title == inputText :\n",
    "            title_index = i\n",
    "            break\n",
    "\n",
    "    similarity_scores = similarity_matrix[title_index]\n",
    "    print(similarity_matrix[title_index])\n",
    "    \n",
    "    top_indices = similarity_scores.argsort()[::1][:-7:-1]\n",
    "    recList = []\n",
    "    \n",
    "    recommendation = [(empList[i], similarity_scores[i]) for i in top_indices]\n",
    "    recList.append(recommendation)\n",
    "\n",
    "    recommendations = recList[-6:]\n",
    "\n",
    "\n"
   ]
  },
  {
   "attachments": {},
   "cell_type": "markdown",
   "metadata": {},
   "source": [
    "Results"
   ]
  },
  {
   "cell_type": "code",
   "execution_count": 70,
   "metadata": {},
   "outputs": [
    {
     "name": "stdout",
     "output_type": "stream",
     "text": [
      "[('Lucifer and the Biscuit Hammer', 'Action, Adventure, Comedy, Drama', 5.64, 'NAZ', 'TV Show'), 0.7559289460184544]\n",
      "[('Shanhai Jing: Zaijian Gaoshou', 'Adventure, Comedy, Fantasy', 'N/A', 'N/A', 'Movie'), 0.6546536707079772]\n",
      "[('New Gods: Yang Jian', 'Action, Adventure, Fantasy', 6.97, 'Light Chaser Animation Studios', 'Movie'), 0.6546536707079772]\n",
      "[('New Gods: Yang Jian', 'Action, Adventure, Fantasy', 6.97, 'Light Chaser Animation Studios', 'Movie'), 0.6546536707079772]\n",
      "[('My Precious Lunch', 'Action, Fantasy', 6.35, 'N/A', 'Movie'), 0.5345224838248487]\n"
     ]
    }
   ],
   "source": [
    "for i in recommendations:\n",
    "    del i[0]\n",
    "    for items in i:\n",
    "        items = list(items)\n",
    "        show = items\n",
    "        print(show)\n",
    "\n",
    "        \n",
    "    "
   ]
  }
 ],
 "metadata": {
  "kernelspec": {
   "display_name": "Python 3",
   "language": "python",
   "name": "python3"
  },
  "language_info": {
   "codemirror_mode": {
    "name": "ipython",
    "version": 3
   },
   "file_extension": ".py",
   "mimetype": "text/x-python",
   "name": "python",
   "nbconvert_exporter": "python",
   "pygments_lexer": "ipython3",
   "version": "3.10.11"
  },
  "orig_nbformat": 4
 },
 "nbformat": 4,
 "nbformat_minor": 2
}
